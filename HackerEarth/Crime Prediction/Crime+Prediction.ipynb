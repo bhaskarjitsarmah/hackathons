{
 "cells": [
  {
   "cell_type": "markdown",
   "metadata": {},
   "source": [
    "## Loading data"
   ]
  },
  {
   "cell_type": "code",
   "execution_count": 1,
   "metadata": {
    "collapsed": true
   },
   "outputs": [],
   "source": [
    "import matplotlib.pyplot as plt\n",
    "import numpy as np\n",
    "import pandas as pd\n",
    "\n",
    "%matplotlib inline"
   ]
  },
  {
   "cell_type": "code",
   "execution_count": 2,
   "metadata": {},
   "outputs": [
    {
     "data": {
      "text/html": [
       "<div>\n",
       "<table border=\"1\" class=\"dataframe\">\n",
       "  <thead>\n",
       "    <tr style=\"text-align: right;\">\n",
       "      <th></th>\n",
       "      <th>officer_id</th>\n",
       "      <th>officer_initials</th>\n",
       "      <th>race</th>\n",
       "      <th>sex</th>\n",
       "      <th>investigative_findings</th>\n",
       "      <th>cases_handled</th>\n",
       "      <th>complaint_summary</th>\n",
       "      <th>target</th>\n",
       "    </tr>\n",
       "  </thead>\n",
       "  <tbody>\n",
       "    <tr>\n",
       "      <th>1</th>\n",
       "      <td>17BR0001</td>\n",
       "      <td>CV</td>\n",
       "      <td>White</td>\n",
       "      <td>Male</td>\n",
       "      <td>Other than Sustained Finding</td>\n",
       "      <td>25</td>\n",
       "      <td>Cn hf treated unprofessionally unknown th dist...</td>\n",
       "      <td>malfeasance</td>\n",
       "    </tr>\n",
       "    <tr>\n",
       "      <th>2</th>\n",
       "      <td>17BR0002</td>\n",
       "      <td>RB</td>\n",
       "      <td>Black</td>\n",
       "      <td>Female</td>\n",
       "      <td>Sustained Finding</td>\n",
       "      <td>18</td>\n",
       "      <td>Dh bm receive proper service officers kb ma ac...</td>\n",
       "      <td>lack of service</td>\n",
       "    </tr>\n",
       "    <tr>\n",
       "      <th>3</th>\n",
       "      <td>17BR0003</td>\n",
       "      <td>AD</td>\n",
       "      <td>White</td>\n",
       "      <td>Male</td>\n",
       "      <td>Other than Sustained Finding</td>\n",
       "      <td>7</td>\n",
       "      <td>Ak bm improperly stopped three unidentified th...</td>\n",
       "      <td>malfeasance</td>\n",
       "    </tr>\n",
       "    <tr>\n",
       "      <th>4</th>\n",
       "      <td>17BR0004</td>\n",
       "      <td>TS</td>\n",
       "      <td>Black</td>\n",
       "      <td>Female</td>\n",
       "      <td>Sustained Finding</td>\n",
       "      <td>3</td>\n",
       "      <td>Eg stated receive proper service officers ts c...</td>\n",
       "      <td>lack of service</td>\n",
       "    </tr>\n",
       "    <tr>\n",
       "      <th>5</th>\n",
       "      <td>17BR0005</td>\n",
       "      <td>DV</td>\n",
       "      <td>Black</td>\n",
       "      <td>Male</td>\n",
       "      <td>Other than Sustained Finding</td>\n",
       "      <td>35</td>\n",
       "      <td>Iv bf exhusband detective dv physically abused...</td>\n",
       "      <td>malfeasance</td>\n",
       "    </tr>\n",
       "    <tr>\n",
       "      <th>6</th>\n",
       "      <td>17BR0007</td>\n",
       "      <td>RB</td>\n",
       "      <td>Black</td>\n",
       "      <td>Male</td>\n",
       "      <td>Other than Sustained Finding</td>\n",
       "      <td>9</td>\n",
       "      <td>Ms behalf ls bm sgt jm follow proper police pr...</td>\n",
       "      <td>departmental violations</td>\n",
       "    </tr>\n",
       "  </tbody>\n",
       "</table>\n",
       "</div>"
      ],
      "text/plain": [
       "  officer_id officer_initials   race     sex        investigative_findings  \\\n",
       "1   17BR0001               CV  White    Male  Other than Sustained Finding   \n",
       "2   17BR0002               RB  Black  Female             Sustained Finding   \n",
       "3   17BR0003               AD  White    Male  Other than Sustained Finding   \n",
       "4   17BR0004               TS  Black  Female             Sustained Finding   \n",
       "5   17BR0005               DV  Black    Male  Other than Sustained Finding   \n",
       "6   17BR0007               RB  Black    Male  Other than Sustained Finding   \n",
       "\n",
       "  cases_handled                                  complaint_summary  \\\n",
       "1            25  Cn hf treated unprofessionally unknown th dist...   \n",
       "2            18  Dh bm receive proper service officers kb ma ac...   \n",
       "3             7  Ak bm improperly stopped three unidentified th...   \n",
       "4             3  Eg stated receive proper service officers ts c...   \n",
       "5            35  Iv bf exhusband detective dv physically abused...   \n",
       "6             9  Ms behalf ls bm sgt jm follow proper police pr...   \n",
       "\n",
       "                    target  \n",
       "1              malfeasance  \n",
       "2          lack of service  \n",
       "3              malfeasance  \n",
       "4          lack of service  \n",
       "5              malfeasance  \n",
       "6  departmental violations  "
      ]
     },
     "execution_count": 2,
     "metadata": {},
     "output_type": "execute_result"
    }
   ],
   "source": [
    "df = pd.read_csv('train1.csv', index_col=0)\n",
    "df.head(n=6)"
   ]
  },
  {
   "cell_type": "markdown",
   "metadata": {},
   "source": [
    "## Training data missing value treatment "
   ]
  },
  {
   "cell_type": "code",
   "execution_count": 3,
   "metadata": {},
   "outputs": [],
   "source": [
    "index = df[df['cases_handled'] == \"UNK\"]['cases_handled'].index\n",
    "df.loc[index, 'cases_handled'] = 1\n",
    "df['cases_handled'] = pd.to_numeric(df['cases_handled'])\n",
    "\n",
    "index = df[df['race'] == \"UNK\"]['race'].index\n",
    "df.loc[index, 'race'] = \"White\"\n",
    "\n",
    "index = df[df['sex'] == \"UNK\"]['sex'].index\n",
    "df.loc[index, 'sex'] = \"Male\""
   ]
  },
  {
   "cell_type": "code",
   "execution_count": 4,
   "metadata": {
    "collapsed": true
   },
   "outputs": [],
   "source": [
    "X_train = df.drop(['officer_id', 'officer_initials', 'target'], axis=1)\n",
    "y_train = df['target']"
   ]
  },
  {
   "cell_type": "markdown",
   "metadata": {},
   "source": [
    "## Testing data missing value treatment"
   ]
  },
  {
   "cell_type": "code",
   "execution_count": 5,
   "metadata": {},
   "outputs": [],
   "source": [
    "test = pd.read_csv('test1.csv', index_col=0)"
   ]
  },
  {
   "cell_type": "code",
   "execution_count": 6,
   "metadata": {},
   "outputs": [],
   "source": [
    "index = test[test['cases_handled'] == \"UNK\"]['cases_handled'].index\n",
    "test.loc[index, 'cases_handled'] = 1\n",
    "test.loc[45, 'cases_handled'] = 5\n",
    "test['cases_handled'] = pd.to_numeric(test['cases_handled'])\n",
    "\n",
    "index = test[test['race'] == \"UNK\"]['race'].index\n",
    "test.loc[index, 'race'] = \"White\"\n",
    "\n",
    "index = test[test['sex'] == \"UNK\"]['sex'].index\n",
    "test.loc[index, 'sex'] = \"Male\""
   ]
  },
  {
   "cell_type": "code",
   "execution_count": 7,
   "metadata": {
    "collapsed": true
   },
   "outputs": [],
   "source": [
    "X_test = test.drop(['officer_id', 'officer_initials'], axis=1)"
   ]
  },
  {
   "cell_type": "code",
   "execution_count": 8,
   "metadata": {},
   "outputs": [],
   "source": [
    "#LABELS = ['target']\n",
    "NUMERIC_COLUMNS = ['cases_handled']\n",
    "CATEGORICAL_COLUMNS = ['race', 'sex', 'investigative_findings']\n",
    "\n",
    "def combine_text_columns(data_frame, to_drop=NUMERIC_COLUMNS + CATEGORICAL_COLUMNS):\n",
    "    \"\"\" Takes the dataset as read in, drops the non-feature, non-text columns and\n",
    "        then combines all of the text columns into a single vector that has all of\n",
    "        the text for a row.\n",
    "        \n",
    "        :param data_frame: The data as read in with read_csv \n",
    "        :param to_drop: Removes the numeric and target label columns.\n",
    "    \"\"\"\n",
    "    # dropping non-text columns that are in the df\n",
    "    to_drop = set(to_drop) & set(data_frame.columns.tolist())\n",
    "    text_data = data_frame.drop(to_drop, axis=1)\n",
    "   \n",
    "    # replacing nans with blanks\n",
    "    text_data.fillna(\"\", inplace=True)\n",
    "    \n",
    "   # joining all of the text items in a row (axis=1) with a space in between\n",
    "    return text_data.apply(lambda x: \" \".join(x), axis=1)"
   ]
  },
  {
   "cell_type": "code",
   "execution_count": 9,
   "metadata": {
    "collapsed": true
   },
   "outputs": [],
   "source": [
    "from sklearn.preprocessing import FunctionTransformer\n",
    "\n",
    "get_text_data = FunctionTransformer(combine_text_columns, validate=False)\n",
    "get_numeric_data = FunctionTransformer(lambda x: x[NUMERIC_COLUMNS], validate=False)\n",
    "get_categorical_data = FunctionTransformer(lambda x: x[CATEGORICAL_COLUMNS], validate=False)"
   ]
  },
  {
   "cell_type": "code",
   "execution_count": 10,
   "metadata": {},
   "outputs": [],
   "source": [
    "from features.SparseInteractions import SparseInteractions"
   ]
  },
  {
   "cell_type": "code",
   "execution_count": 11,
   "metadata": {
    "collapsed": true
   },
   "outputs": [],
   "source": [
    "from sklearn.feature_selection import chi2, SelectKBest\n",
    "\n",
    "from sklearn.pipeline import Pipeline, FeatureUnion\n",
    "\n",
    "from sklearn.preprocessing import LabelEncoder\n",
    "from sklearn.preprocessing import Imputer\n",
    "from sklearn.feature_extraction.text import HashingVectorizer\n",
    "\n",
    "from sklearn.multiclass import OneVsRestClassifier\n",
    "from sklearn.linear_model import LogisticRegression\n",
    "from sklearn.ensemble import RandomForestClassifier, AdaBoostClassifier\n",
    "from sklearn.svm import SVC\n",
    "from sklearn.tree import DecisionTreeClassifier\n",
    "\n",
    "from sklearn.preprocessing import MaxAbsScaler\n",
    "\n",
    "TOKENS_ALPHANUMERIC = '[A-Za-z0-9]+(?=\\\\s+)'"
   ]
  },
  {
   "cell_type": "code",
   "execution_count": 12,
   "metadata": {
    "collapsed": true
   },
   "outputs": [],
   "source": [
    "class MultiColumnLabelEncoder:\n",
    "    def __init__(self,columns = None):\n",
    "        self.columns = columns # array of column names to encode\n",
    "\n",
    "    def fit(self,X,y=None):\n",
    "        return self # not relevant here\n",
    "\n",
    "    def transform(self,X):\n",
    "        '''\n",
    "        Transforms columns of X specified in self.columns using\n",
    "        LabelEncoder(). If no columns specified, transforms all\n",
    "        columns in X.\n",
    "        '''\n",
    "        output = X.copy()\n",
    "        if self.columns is not None:\n",
    "            for col in self.columns:\n",
    "                output[col] = LabelEncoder().fit_transform(output[col])\n",
    "        else:\n",
    "            for colname,col in output.iteritems():\n",
    "                output[colname] = LabelEncoder().fit_transform(col)\n",
    "        return output\n",
    "\n",
    "    def fit_transform(self,X,y=None):\n",
    "        return self.fit(X,y).transform(X)"
   ]
  },
  {
   "cell_type": "code",
   "execution_count": 13,
   "metadata": {},
   "outputs": [
    {
     "name": "stdout",
     "output_type": "stream",
     "text": [
      "\n",
      "Accuracy on test dataset:  0.970238095238\n",
      "Wall time: 11.4 s\n"
     ]
    }
   ],
   "source": [
    "%%time\n",
    "\n",
    "# ignore deprecation warnings in sklearn\n",
    "import warnings\n",
    "warnings.filterwarnings(\"ignore\")\n",
    "\n",
    "# setting a reasonable number of features before adding interactions\n",
    "chi_k = 15\n",
    "\n",
    "# creating the pipeline object\n",
    "pl = Pipeline([\n",
    "        ('union', FeatureUnion(\n",
    "            transformer_list = [\n",
    "                ('numeric_features', Pipeline([\n",
    "                    ('selector', get_numeric_data)#,\n",
    "                    #('imputer', Imputer())\n",
    "                ])),\n",
    "                \n",
    "                ('categorical_features', Pipeline([\n",
    "                    ('selector', get_categorical_data),\n",
    "                    ('le', MultiColumnLabelEncoder())\n",
    "                ])),\n",
    "                \n",
    "                ('text_features', Pipeline([\n",
    "                    ('selector', get_text_data),\n",
    "                    ('vectorizer', HashingVectorizer(token_pattern=TOKENS_ALPHANUMERIC,\n",
    "                                                     non_negative=True, norm=None, binary=False,\n",
    "                                                     ngram_range=(1, 2))),\n",
    "                    ('dim_red', SelectKBest(chi2, chi_k))\n",
    "                ]))\n",
    "             ]\n",
    "        )),\n",
    "        ('int', SparseInteractions(degree=2)),\n",
    "        ('scale', MaxAbsScaler()),\n",
    "        ('clf', AdaBoostClassifier(DecisionTreeClassifier(), random_state = 42))\n",
    "    ])\n",
    "\n",
    "# fitting the pipeline to our training data\n",
    "pl.fit(X_train, y_train.values)\n",
    "\n",
    "# printing the score of our trained pipeline on our test set\n",
    "#print(\"Logloss score of trained pipeline: \", log_loss_scorer(pl, X_test, y_test.values))\n",
    "\n",
    "# Computing and printing accuracy\n",
    "accuracy = pl.score(X_train, y_train)\n",
    "print(\"\\nAccuracy on test dataset: \", accuracy)"
   ]
  },
  {
   "cell_type": "code",
   "execution_count": 14,
   "metadata": {},
   "outputs": [],
   "source": [
    "# Making predictions\n",
    "predictions = pl.predict(X_test)\n",
    "#prob = pl.predict_proba(X_test)[:,1]\n",
    "dt = {'target':predictions}\n",
    "#temp = pd.DataFrame(np.array(predictions).reshape(100128,104))\n",
    "# Formatting correctly in new DataFrame: prediction_df\n",
    "prediction_df = pd.DataFrame(data=dt, index=test.officer_id)\n",
    "\n",
    "\n",
    "# Saving prediction_df to csv called \"predictions.csv\"\n",
    "prediction_df.to_csv(\"predictions12.csv\")"
   ]
  },
  {
   "cell_type": "code",
   "execution_count": null,
   "metadata": {
    "collapsed": true
   },
   "outputs": [],
   "source": []
  }
 ],
 "metadata": {
  "kernelspec": {
   "display_name": "Python 3",
   "language": "python",
   "name": "python3"
  },
  "language_info": {
   "codemirror_mode": {
    "name": "ipython",
    "version": 3
   },
   "file_extension": ".py",
   "mimetype": "text/x-python",
   "name": "python",
   "nbconvert_exporter": "python",
   "pygments_lexer": "ipython3",
   "version": "3.6.1"
  }
 },
 "nbformat": 4,
 "nbformat_minor": 2
}
